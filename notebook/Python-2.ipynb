{
 "cells": [
  {
   "cell_type": "markdown",
   "metadata": {},
   "source": [
    "# Introduction to Python programming\n",
    "### [Gerard Gorman](http://www.imperial.ac.uk/people/g.gorman), [Christian Jacobs](http://www.imperial.ac.uk/people/c.jacobs10)"
   ]
  },
  {
   "cell_type": "markdown",
   "metadata": {},
   "source": [
    "# Lecture 2: Computing with basic language constructions\n",
    "\n",
    "Learning objectives:\n",
    "\n",
    "* Introduction to two different forms of loops which are used to repeat operations on data: either until a condition is satisfied (*while-loop*) or for a fixed number of iterations (*for-loop*).\n",
    "* Form a *condition* using a *boolean expression*. This is used to either terminate loops or control if a specific block of code is executed via the *if-statement*.\n",
    "* Learn two different methods for storing many data elements within a single Python type.\n",
    "* Introduction to developing your own Python *functions* which allows you to execute the same block of code, with different inputs and outputs, from anywhere in the code."
   ]
  },
  {
   "cell_type": "markdown",
   "metadata": {},
   "source": [
    "## Boolean expressions\n",
    "An expression with value *true* or *false* is called a boolean expression. Example expressions for what you would write mathematically as\n",
    "$C=40$, $C\\ne40$, $C\\ge40$, $C\\gt40$ and $C\\lt40$ are:"
   ]
  },
  {
   "cell_type": "raw",
   "metadata": {},
   "source": [
    "C == 40 # Note: the double == checks for equality, but C=40 is an assignment!\n",
    "C != 40 # This could also be written as 'not C == 4' (i.e. the opposite of what C == 4 gives)\n",
    "C >= 40\n",
    "C > 40\n",
    "C < 40"
   ]
  },
  {
   "cell_type": "markdown",
   "metadata": {},
   "source": [
    "We can test boolean expressions in a Python shell:"
   ]
  },
  {
   "cell_type": "code",
   "execution_count": 5,
   "metadata": {
    "collapsed": false
   },
   "outputs": [
    {
     "name": "stdout",
     "output_type": "stream",
     "text": [
      "C != 40:  True\n",
      "C < 40:  False\n",
      "C == 41:  True\n"
     ]
    }
   ],
   "source": [
    "C = 41\n",
    "print \"C != 40: \", C != 40\n",
    "print \"C < 40: \", C < 40\n",
    "print \"C == 41: \", C == 41"
   ]
  },
  {
   "cell_type": "markdown",
   "metadata": {},
   "source": [
    "Several conditions can be combined with the special 'and' and 'or' operators into a single boolean expression:"
   ]
  },
  {
   "cell_type": "raw",
   "metadata": {},
   "source": [
    "condition1 and condition2\n",
    "\n",
    "condition1 or condition2"
   ]
  },
  {
   "cell_type": "markdown",
   "metadata": {},
   "source": [
    "\n",
    "* Rule 1: (**C1** *and* **C2**) is *True* only if both **C1** and **C2** are *True*\n",
    "* Rule 2: (**C1** *or* **C2**) is *True* if either **C1** or **C2** are *True*\n",
    "\n",
    "Examples:"
   ]
  },
  {
   "cell_type": "code",
   "execution_count": 6,
   "metadata": {
    "collapsed": false
   },
   "outputs": [
    {
     "name": "stdout",
     "output_type": "stream",
     "text": [
      "False\n"
     ]
    }
   ],
   "source": [
    "x=0; y=1.2\n",
    "print (x >= 0 and y < 1)"
   ]
  },
  {
   "cell_type": "markdown",
   "metadata": {},
   "source": [
    "## <span style=\"color:blue\">Exercise: Values of boolean expressions</span>\n",
    "Add a comment to the code below to explain the outcome of each of the boolean expressions:"
   ]
  },
  {
   "cell_type": "code",
   "execution_count": 7,
   "metadata": {
    "collapsed": false
   },
   "outputs": [
    {
     "name": "stdout",
     "output_type": "stream",
     "text": [
      "Case 1:  False\n",
      "Case 2:  False\n",
      "Case 3:  True\n",
      "Case 4:  True\n",
      "Case 5:  False\n",
      "Case 6:  True\n",
      "Case 7:  True\n",
      "Case 8:  False\n",
      "Case 9:  True\n",
      "Case 10:  False\n",
      "Case 11:  False\n",
      "Case 12:  True\n",
      "Case 13:  False\n",
      "Case 14:  True\n"
     ]
    }
   ],
   "source": [
    "C = 41\n",
    "\n",
    "print \"Case 1: \", C == 40   #C isnt 40\n",
    "print \"Case 2: \", C != 40 and C < 41 #C is 41 not less than\n",
    "print \"Case 3: \", C != 40 or C < 41 #C doesnt equal 40\n",
    "print \"Case 4: \", not C == 40 #c \n",
    "print \"Case 5: \", not C > 40\n",
    "print \"Case 6: \", C <= 41\n",
    "print \"Case 7: \", not False \n",
    "print \"Case 8: \", True and False\n",
    "print \"Case 9: \", False or True\n",
    "print \"Case 10: \", False or False or False\n",
    "print \"Case 11: \", True and True and False\n",
    "print \"Case 12: \", False == 0\n",
    "print \"Case 13: \", True == 0\n",
    "print \"Case 14: \", True == 1"
   ]
  },
  {
   "cell_type": "markdown",
   "metadata": {},
   "source": [
    "## Loops\n",
    "Suppose we want to make a table of Celsius and Fahrenheit\n",
    "degrees:"
   ]
  },
  {
   "cell_type": "raw",
   "metadata": {},
   "source": [
    "             -20  -4.0\n",
    "             -15   5.0\n",
    "             -10  14.0\n",
    "              -5  23.0\n",
    "               0  32.0\n",
    "               5  41.0\n",
    "              10  50.0\n",
    "              15  59.0\n",
    "              20  68.0\n",
    "              25  77.0\n",
    "              30  86.0\n",
    "              35  95.0\n",
    "              40 104.0"
   ]
  },
  {
   "cell_type": "markdown",
   "metadata": {},
   "source": [
    "How do we write a program that prints out such a table?\n",
    "￼\n",
    "We know from the last lecture how to make one line in this table:"
   ]
  },
  {
   "cell_type": "code",
   "execution_count": 8,
   "metadata": {
    "collapsed": false
   },
   "outputs": [
    {
     "name": "stdout",
     "output_type": "stream",
     "text": [
      "-20 -4.0\n"
     ]
    }
   ],
   "source": [
    "C = -20\n",
    "F = 9.0/5*C + 32\n",
    "print C, F"
   ]
  },
  {
   "cell_type": "markdown",
   "metadata": {},
   "source": [
    "We can just repeat these statements:"
   ]
  },
  {
   "cell_type": "code",
   "execution_count": 9,
   "metadata": {
    "collapsed": false
   },
   "outputs": [
    {
     "name": "stdout",
     "output_type": "stream",
     "text": [
      "-20 -4.0\n",
      "-15 5.0\n",
      "-10 14.0\n",
      "-5 23.0\n",
      "0 32.0\n",
      "5 41.0\n",
      "10 50.0\n",
      "15 59.0\n",
      "20 68.0\n",
      "25 77.0\n",
      "30 86.0\n",
      "35 95.0\n",
      "40 104.0\n"
     ]
    }
   ],
   "source": [
    "C=-20; F=9.0/5*C+32; print C,F\n",
    "C=-15; F=9.0/5*C+32; print C,F\n",
    "C=-10; F=9.0/5*C+32; print C,F\n",
    "C=-5; F=9.0/5*C+32; print C,F\n",
    "C=0; F=9.0/5*C+32; print C,F\n",
    "C=5; F=9.0/5*C+32; print C,F\n",
    "C=10; F=9.0/5*C+32; print C,F\n",
    "C=15; F=9.0/5*C+32; print C,F\n",
    "C=20; F=9.0/5*C+32; print C,F\n",
    "C=25; F=9.0/5*C+32; print C,F\n",
    "C=30; F=9.0/5*C+32; print C,F\n",
    "C=35; F=9.0/5*C+32; print C,F\n",
    "C=40; F=9.0/5*C+32; print C,F"
   ]
  },
  {
   "cell_type": "markdown",
   "metadata": {},
   "source": [
    "So we can see that works but its **very boring** to write and very easy to introduce a misprint.\n",
    "\n",
    "**You really should not be doing boring repetitive tasks like this.** Spend one time instead looking for a smarter solution. When programming becomes boring, there is usually a construct that automates the writing. Computers are very good at performing repetitive tasks. For this purpose we use **loops**."
   ]
  },
  {
   "cell_type": "markdown",
   "metadata": {},
   "source": [
    "## The while loop (and the significance of indentation)\n",
    "A while loop executes repeatedly a set of statements as long as a **boolean** (i.e. *True* / *False*) condition is *True*"
   ]
  },
  {
   "cell_type": "raw",
   "metadata": {},
   "source": [
    "while condition:\n",
    "    <statement 1>\n",
    "    <statement 2>\n",
    "    ...\n",
    "<first statement after loop>"
   ]
  },
  {
   "cell_type": "markdown",
   "metadata": {},
   "source": [
    "Note that all statements to be executed within the loop must be indented by the same amount! The loop ends when an unindented statement is encountered.\n",
    "\n",
    "At this point it is worth noticing that **blank spaces may or may not be important** in Python programs. These statements are equivalent (blanks do not matter):"
   ]
  },
  {
   "cell_type": "code",
   "execution_count": 10,
   "metadata": {
    "collapsed": false
   },
   "outputs": [],
   "source": [
    "v0=3\n",
    "v0  =  3\n",
    "v0=   3\n",
    "# The computer does not care but this formatting style is\n",
    "# considered clearest for the human reader.\n",
    "v0 = 3"
   ]
  },
  {
   "cell_type": "markdown",
   "metadata": {},
   "source": [
    "Here is a while loop example where blank spaces really do matter:"
   ]
  },
  {
   "cell_type": "code",
   "execution_count": 11,
   "metadata": {
    "collapsed": false
   },
   "outputs": [
    {
     "name": "stdout",
     "output_type": "stream",
     "text": [
      "11\n"
     ]
    }
   ],
   "source": [
    "counter = 0\n",
    "while counter <= 10:\n",
    "    counter = counter + 1\n",
    "print counter"
   ]
  },
  {
   "cell_type": "markdown",
   "metadata": {},
   "source": [
    "Let's take a look at what happens when we forget to indent correctly:"
   ]
  },
  {
   "cell_type": "code",
   "execution_count": 12,
   "metadata": {
    "collapsed": false
   },
   "outputs": [
    {
     "ename": "IndentationError",
     "evalue": "expected an indented block (<ipython-input-12-47f4b4075c9c>, line 3)",
     "output_type": "error",
     "traceback": [
      "\u001b[0;36m  File \u001b[0;32m\"<ipython-input-12-47f4b4075c9c>\"\u001b[0;36m, line \u001b[0;32m3\u001b[0m\n\u001b[0;31m    counter = counter + 1\u001b[0m\n\u001b[0m          ^\u001b[0m\n\u001b[0;31mIndentationError\u001b[0m\u001b[0;31m:\u001b[0m expected an indented block\n"
     ]
    }
   ],
   "source": [
    "counter = 0\n",
    "while counter <= 10:\n",
    "counter = counter + 1\n",
    "print counter"
   ]
  },
  {
   "cell_type": "markdown",
   "metadata": {},
   "source": [
    "Let's use the while loop to create the table above:"
   ]
  },
  {
   "cell_type": "code",
   "execution_count": 13,
   "metadata": {
    "collapsed": false
   },
   "outputs": [
    {
     "name": "stdout",
     "output_type": "stream",
     "text": [
      "-20 -4.0\n",
      "-15 5.0\n",
      "-10 14.0\n",
      "-5 23.0\n",
      "0 32.0\n",
      "5 41.0\n",
      "10 50.0\n",
      "15 59.0\n",
      "20 68.0\n",
      "25 77.0\n",
      "30 86.0\n",
      "35 95.0\n",
      "40 104.0\n"
     ]
    }
   ],
   "source": [
    "C = -20                      # Initialise C\n",
    "dC = 5                       # Increment for C within the loop\n",
    "while C <= 40:               # Loop heading with condition\n",
    "    F = (9.0/5)*C + 32       # 1st statement inside loop\n",
    "    print C, F               # 2nd statement inside loop\n",
    "    C = C + dC               # Increment C for the next iteration of the loop."
   ]
  },
  {
   "cell_type": "markdown",
   "metadata": {},
   "source": [
    "## <span style=\"color:blue\">Exercise: Make a Fahrenheit-Celsius conversion table</span>\n",
    "Write a program that prints out a table with Fahrenheit degrees 0, 10, 20, ..., 100 in the first column and the corresponding Celsius degrees in the second column."
   ]
  },
  {
   "cell_type": "code",
   "execution_count": 13,
   "metadata": {
    "collapsed": false
   },
   "outputs": [
    {
     "name": "stdout",
     "output_type": "stream",
     "text": [
      "0 -17.7777777778\n",
      "10 -12.2222222222\n",
      "20 -6.66666666667\n",
      "30 -1.11111111111\n",
      "40 4.44444444444\n",
      "50 10.0\n",
      "60 15.5555555556\n",
      "70 21.1111111111\n",
      "80 26.6666666667\n",
      "90 32.2222222222\n",
      "100 37.7777777778\n"
     ]
    }
   ],
   "source": [
    "from __future__ import division\n",
    "\n",
    "i=0\n",
    "while i < 11:\n",
    "    F = 10 * i\n",
    "    C = (F-32)*5/9\n",
    "    print F,C\n",
    "    i = i + 1\n",
    "    "
   ]
  },
  {
   "cell_type": "markdown",
   "metadata": {},
   "source": [
    "## <span style=\"color:blue\">Exercise: Write an approximate Fahrenheit-Celsius conversion table</span>\n",
    "Many people use an approximate formula for quickly converting Fahrenheit ($F$) to Celsius ($C$) degrees:</br></br>\n",
    "$C \\approx \\hat{C} = \\frac{F − 30}{2}$</br></br>\n",
    "Modify the program from the previous exercise so that it prints three columns: $F$, $C$, and the approximate value $\\hat{C}$."
   ]
  },
  {
   "cell_type": "code",
   "execution_count": 14,
   "metadata": {
    "collapsed": false
   },
   "outputs": [
    {
     "name": "stdout",
     "output_type": "stream",
     "text": [
      "0 -17.7777777778 -15.0\n",
      "10 -12.2222222222 -10.0\n",
      "20 -6.66666666667 -5.0\n",
      "30 -1.11111111111 0.0\n",
      "40 4.44444444444 5.0\n",
      "50 10.0 10.0\n",
      "60 15.5555555556 15.0\n",
      "70 21.1111111111 20.0\n",
      "80 26.6666666667 25.0\n",
      "90 32.2222222222 30.0\n",
      "100 37.7777777778 35.0\n"
     ]
    }
   ],
   "source": [
    "i=0\n",
    "while i < 11:\n",
    "    F = 10 * i\n",
    "    C = (F-32)*5/9\n",
    "    C_approx = (F-30)/2\n",
    "    print F,C, C_approx\n",
    "    i = i + 1"
   ]
  },
  {
   "cell_type": "markdown",
   "metadata": {},
   "source": [
    "## Lists\n",
    "So far, one variable has referred to one number (or string). Sometimes however we naturally have a collection of numbers, say\n",
    "degrees −20, −15, −10, −5, 0, ..., 40. One way to store these values in a computer program would be to have one variable per value, i.e."
   ]
  },
  {
   "cell_type": "code",
   "execution_count": 14,
   "metadata": {
    "collapsed": false
   },
   "outputs": [],
   "source": [
    "C1 = -20\n",
    "C2 = -15\n",
    "C3 = -10\n",
    "# ...\n",
    "C13 = 40"
   ]
  },
  {
   "cell_type": "markdown",
   "metadata": {},
   "source": [
    "This is clearly a terrible solution, particularly if we have lots of values. A better way of doing this is to collect values together in a list:"
   ]
  },
  {
   "cell_type": "code",
   "execution_count": 15,
   "metadata": {
    "collapsed": false
   },
   "outputs": [],
   "source": [
    "C = [-20, -15, -10, -5, 0, 5, 10, 15, 20, 25, 30, 35, 40]"
   ]
  },
  {
   "cell_type": "markdown",
   "metadata": {},
   "source": [
    "Now there is just one variable, **C**, holding all the values. Elements in a list are accessed via an index. List indices are always numbered as 0, 1, 2, and so forth up to the number of elements minus one:"
   ]
  },
  {
   "cell_type": "code",
   "execution_count": 16,
   "metadata": {
    "collapsed": false
   },
   "outputs": [
    {
     "name": "stdout",
     "output_type": "stream",
     "text": [
      "4\n",
      "6\n",
      "-3.5\n",
      "3\n"
     ]
    }
   ],
   "source": [
    "mylist = [4, 6, -3.5]\n",
    "print mylist[0]\n",
    "print mylist[1]\n",
    "print mylist[2]\n",
    "print len(mylist)  # length of list"
   ]
  },
  {
   "cell_type": "markdown",
   "metadata": {},
   "source": [
    "Here are a few example of operations that you can perform on lists:"
   ]
  },
  {
   "cell_type": "code",
   "execution_count": 17,
   "metadata": {
    "collapsed": false
   },
   "outputs": [
    {
     "name": "stdout",
     "output_type": "stream",
     "text": [
      "[-10, -5, 0, 5, 10, 15, 20, 25, 30, 35]\n"
     ]
    }
   ],
   "source": [
    "C = [-10, -5, 0, 5, 10, 15, 20, 25, 30]\n",
    "C.append(35) # add new element 35 at the end\n",
    "print C"
   ]
  },
  {
   "cell_type": "code",
   "execution_count": 18,
   "metadata": {
    "collapsed": false
   },
   "outputs": [
    {
     "name": "stdout",
     "output_type": "stream",
     "text": [
      "[-10, -5, 0, 5, 10, 15, 20, 25, 30, 35, 40, 45]\n"
     ]
    }
   ],
   "source": [
    "C=C+[40,45] # And another list to the end of C\n",
    "print C"
   ]
  },
  {
   "cell_type": "code",
   "execution_count": 19,
   "metadata": {
    "collapsed": false
   },
   "outputs": [
    {
     "name": "stdout",
     "output_type": "stream",
     "text": [
      "[-15, -10, -5, 0, 5, 10, 15, 20, 25, 30, 35, 40, 45]\n"
     ]
    }
   ],
   "source": [
    "C.insert(0, -15)     # Insert -15 as index 0\n",
    "print C"
   ]
  },
  {
   "cell_type": "code",
   "execution_count": 20,
   "metadata": {
    "collapsed": false
   },
   "outputs": [
    {
     "name": "stdout",
     "output_type": "stream",
     "text": [
      "[-15, -10, 0, 5, 10, 15, 20, 25, 30, 35, 40, 45]\n"
     ]
    }
   ],
   "source": [
    "del C[2]             # delete 3rd element\n",
    "print C"
   ]
  },
  {
   "cell_type": "code",
   "execution_count": 21,
   "metadata": {
    "collapsed": false
   },
   "outputs": [
    {
     "name": "stdout",
     "output_type": "stream",
     "text": [
      "[-15, -10, 5, 10, 15, 20, 25, 30, 35, 40, 45]\n"
     ]
    }
   ],
   "source": [
    "del C[2]             # delete what is now 3rd element\n",
    "print C"
   ]
  },
  {
   "cell_type": "code",
   "execution_count": 22,
   "metadata": {
    "collapsed": false
   },
   "outputs": [
    {
     "name": "stdout",
     "output_type": "stream",
     "text": [
      "11\n"
     ]
    }
   ],
   "source": [
    "print len(C)         # length of list"
   ]
  },
  {
   "cell_type": "code",
   "execution_count": 23,
   "metadata": {
    "collapsed": false
   },
   "outputs": [
    {
     "name": "stdout",
     "output_type": "stream",
     "text": [
      "3\n"
     ]
    }
   ],
   "source": [
    "print C.index(10)    # Find the index of the list with the value 10"
   ]
  },
  {
   "cell_type": "code",
   "execution_count": 24,
   "metadata": {
    "collapsed": false
   },
   "outputs": [
    {
     "name": "stdout",
     "output_type": "stream",
     "text": [
      "True\n"
     ]
    }
   ],
   "source": [
    "print (10 in C)      # True only if the value 10 is stored in the list"
   ]
  },
  {
   "cell_type": "code",
   "execution_count": 25,
   "metadata": {
    "collapsed": false
   },
   "outputs": [
    {
     "name": "stdout",
     "output_type": "stream",
     "text": [
      "45\n"
     ]
    }
   ],
   "source": [
    "print C[-1]          # The last value in the list."
   ]
  },
  {
   "cell_type": "code",
   "execution_count": 26,
   "metadata": {
    "collapsed": false
   },
   "outputs": [
    {
     "name": "stdout",
     "output_type": "stream",
     "text": [
      "40\n"
     ]
    }
   ],
   "source": [
    "print C[-2]          # The second last value in the list."
   ]
  },
  {
   "cell_type": "markdown",
   "metadata": {},
   "source": [
    "You can also extract sublists using \":\""
   ]
  },
  {
   "cell_type": "code",
   "execution_count": 30,
   "metadata": {
    "collapsed": false
   },
   "outputs": [
    {
     "name": "stdout",
     "output_type": "stream",
     "text": [
      "[20, 25, 30, 35, 40, 45]\n"
     ]
    }
   ],
   "source": [
    "print C[5:]          # From index 5 to the end of the list."
   ]
  },
  {
   "cell_type": "code",
   "execution_count": 31,
   "metadata": {
    "collapsed": false
   },
   "outputs": [
    {
     "name": "stdout",
     "output_type": "stream",
     "text": [
      "[20, 25]\n"
     ]
    }
   ],
   "source": [
    "print C[5:7]         # From index 5 up to, but not including index 7."
   ]
  },
  {
   "cell_type": "markdown",
   "metadata": {},
   "source": [
    "Many languages (especially Matlab and Fortran) have would include the endpoint of a slice (7 in this case). One way to think of what Python does is that the slice is a half-open interval: $[5,7)$. This makes cutting a list in half particularly easy. For example:"
   ]
  },
  {
   "cell_type": "code",
   "execution_count": 33,
   "metadata": {
    "collapsed": false
   },
   "outputs": [
    {
     "name": "stdout",
     "output_type": "stream",
     "text": [
      "[-15, -10, 5, 10, 15, 'Hello', 20, 25, 30, 35, 40, 45]\n"
     ]
    }
   ],
   "source": [
    "print C[:5] + [\"Hello\"] + C[5:]"
   ]
  },
  {
   "cell_type": "code",
   "execution_count": 34,
   "metadata": {
    "collapsed": false
   },
   "outputs": [
    {
     "name": "stdout",
     "output_type": "stream",
     "text": [
      "[30, 35, 40]\n"
     ]
    }
   ],
   "source": [
    "print C[7:-1]        # From index 7 up to the second last element."
   ]
  },
  {
   "cell_type": "code",
   "execution_count": 35,
   "metadata": {
    "collapsed": false
   },
   "outputs": [
    {
     "name": "stdout",
     "output_type": "stream",
     "text": [
      "[-15, -10, 5, 10, 15, 20, 25, 30, 35, 40, 45]\n"
     ]
    }
   ],
   "source": [
    "print C[:]           # [:] specifies the whole list."
   ]
  },
  {
   "cell_type": "code",
   "execution_count": 36,
   "metadata": {
    "collapsed": false
   },
   "outputs": [
    {
     "name": "stdout",
     "output_type": "stream",
     "text": [
      "Moe Larry Curly\n"
     ]
    }
   ],
   "source": [
    "somelist = ['Curly', 'Larry', 'Moe']\n",
    "stooge1, stooge2, stooge3 = somelist\n",
    "print stooge3, stooge2, stooge1"
   ]
  },
  {
   "cell_type": "markdown",
   "metadata": {},
   "source": [
    "## <span style=\"color:blue\">Exercise: Store odd numbers in a list</span>\n",
    "\n",
    "Step 1: Write a program that generates all odd numbers from 1 to *n*. Set *n* in the beginning of the program and use a while loop to compute the numbers. (Make sure that if *n* is an even number, the largest generated odd number is *n*-1.).\n",
    "\n",
    "Step 2: Store the generated odd numbers in a list. Start with an empty list and use the same while loop where you generate each odd number, ao append the new number to the list.\n",
    "\n",
    "Finally, print the list elements to the screen."
   ]
  },
  {
   "cell_type": "code",
   "execution_count": 26,
   "metadata": {
    "collapsed": false
   },
   "outputs": [
    {
     "name": "stdout",
     "output_type": "stream",
     "text": [
      "[1, 3, 5, 7, 9, 11, 13]\n",
      "[1, 3, 5, 7, 9, 11, 13]\n"
     ]
    }
   ],
   "source": [
    "n=13\n",
    "\n",
    "oddlist = range(1,n+1,2)\n",
    "print oddlist\n",
    "\n",
    "oddlist2 = []\n",
    "i=1\n",
    "while i <= n:\n",
    "    oddlist2.append(i)\n",
    "    i = i+2\n",
    "    \n",
    "print oddlist2\n"
   ]
  },
  {
   "cell_type": "markdown",
   "metadata": {},
   "source": [
    "## For loops\n",
    "We can visit each element in a list and process the element with some statements using a *for* loop, for example:"
   ]
  },
  {
   "cell_type": "code",
   "execution_count": 37,
   "metadata": {
    "collapsed": false
   },
   "outputs": [
    {
     "name": "stdout",
     "output_type": "stream",
     "text": [
      "list element: 0\n",
      "list element: 10\n",
      "list element: 20\n",
      "list element: 40\n",
      "list element: 100\n",
      "The degrees list has 5 elements\n"
     ]
    }
   ],
   "source": [
    "degrees = [0, 10, 20, 40, 100]\n",
    "for C in degrees:\n",
    "    print 'list element:', C\n",
    "print 'The degrees list has', len(degrees), 'elements'"
   ]
  },
  {
   "cell_type": "markdown",
   "metadata": {},
   "source": [
    "Notice again how the statements to be executed within the loop must be indented! Let's now revisit the conversion table example using the *for* loop:"
   ]
  },
  {
   "cell_type": "code",
   "execution_count": 38,
   "metadata": {
    "collapsed": false
   },
   "outputs": [
    {
     "name": "stdout",
     "output_type": "stream",
     "text": [
      "-20 -4.0\n",
      "-15 5.0\n",
      "-10 14.0\n",
      "-5 23.0\n",
      "0 32.0\n",
      "5 41.0\n",
      "10 50.0\n",
      "15 59.0\n",
      "20 68.0\n",
      "25 77.0\n",
      "30 86.0\n",
      "35 95.0\n",
      "40 104.0\n"
     ]
    }
   ],
   "source": [
    "Cdegrees = [-20, -15, -10, -5, 0, 5, 10, 15, 20, 25, 30, 35, 40]\n",
    "for C in Cdegrees:\n",
    "    F = (9.0/5)*C + 32\n",
    "    print C, F"
   ]
  },
  {
   "cell_type": "markdown",
   "metadata": {},
   "source": [
    "We can easily beautify the table using the printf syntax that we encountered in the last lecture:"
   ]
  },
  {
   "cell_type": "code",
   "execution_count": 39,
   "metadata": {
    "collapsed": false
   },
   "outputs": [
    {
     "name": "stdout",
     "output_type": "stream",
     "text": [
      "  -20  -4.0\n",
      "  -15   5.0\n",
      "  -10  14.0\n",
      "   -5  23.0\n",
      "    0  32.0\n",
      "    5  41.0\n",
      "   10  50.0\n",
      "   15  59.0\n",
      "   20  68.0\n",
      "   25  77.0\n",
      "   30  86.0\n",
      "   35  95.0\n",
      "   40 104.0\n"
     ]
    }
   ],
   "source": [
    "for C in Cdegrees:\n",
    "    F = (9.0/5)*C + 32       \n",
    "    print '%5d %5.1f' % (C, F)"
   ]
  },
  {
   "cell_type": "markdown",
   "metadata": {},
   "source": [
    "It is also possible to rewrite the *for* loop as a *while* loop, i.e.,"
   ]
  },
  {
   "cell_type": "raw",
   "metadata": {},
   "source": [
    "for element in somelist:\n",
    "           # process element"
   ]
  },
  {
   "cell_type": "markdown",
   "metadata": {},
   "source": [
    "can always be transformed to a *while* loop"
   ]
  },
  {
   "cell_type": "raw",
   "metadata": {},
   "source": [
    "index = 0\n",
    "while index < len(somelist):\n",
    "    element = somelist[index]\n",
    "    # process element\n",
    "    index += 1"
   ]
  },
  {
   "cell_type": "markdown",
   "metadata": {},
   "source": [
    "Taking the previous table example:"
   ]
  },
  {
   "cell_type": "code",
   "execution_count": 40,
   "metadata": {
    "collapsed": false
   },
   "outputs": [
    {
     "name": "stdout",
     "output_type": "stream",
     "text": [
      "  -20  -4.0\n",
      "  -15   5.0\n",
      "  -10  14.0\n",
      "   -5  23.0\n",
      "    0  32.0\n",
      "    5  41.0\n",
      "   10  50.0\n",
      "   15  59.0\n",
      "   20  68.0\n",
      "   25  77.0\n",
      "   30  86.0\n",
      "   35  95.0\n",
      "   40 104.0\n"
     ]
    }
   ],
   "source": [
    "Cdegrees = [-20, -15, -10, -5, 0, 5, 10, 15, 20, 25, 30, 35, 40]\n",
    "index = 0\n",
    "while index < len(Cdegrees):\n",
    "    C = Cdegrees[index]\n",
    "    F = (9.0/5)*C + 32\n",
    "    print '%5d %5.1f' % (C, F)\n",
    "    index += 1"
   ]
  },
  {
   "cell_type": "markdown",
   "metadata": {},
   "source": [
    "Rather than just printing out the Fahrenheit values, let's also store these computed values in a list of their own:"
   ]
  },
  {
   "cell_type": "code",
   "execution_count": 41,
   "metadata": {
    "collapsed": false
   },
   "outputs": [
    {
     "name": "stdout",
     "output_type": "stream",
     "text": [
      "[-4.0, 5.0, 14.0, 23.0, 32.0, 41.0, 50.0, 59.0, 68.0, 77.0, 86.0, 95.0, 104.0]\n"
     ]
    }
   ],
   "source": [
    "Cdegrees = [-20, -15, -10, -5, 0, 5, 10, 15, 20, 25, 30, 35, 40]\n",
    "Fdegrees = []            # start with empty list\n",
    "for C in Cdegrees:\n",
    "    F = (9.0/5)*C + 32\n",
    "    Fdegrees.append(F)   # add new element to Fdegrees\n",
    "print Fdegrees"
   ]
  },
  {
   "cell_type": "markdown",
   "metadata": {},
   "source": [
    "In Python *for* loops usually loop over list values (elements), i.e.,"
   ]
  },
  {
   "cell_type": "raw",
   "metadata": {},
   "source": [
    "for element in somelist:\n",
    "    ...process variable element"
   ]
  },
  {
   "cell_type": "markdown",
   "metadata": {},
   "source": [
    "However, we can also loop over list indices:"
   ]
  },
  {
   "cell_type": "raw",
   "metadata": {},
   "source": [
    "for i in range(0, len(somelist), 1):\n",
    "    element = somelist[i]\n",
    "    ... process element or somelist[i] directly"
   ]
  },
  {
   "cell_type": "markdown",
   "metadata": {},
   "source": [
    "The statement *range(start, stop, inc)* generates a list of integers *start*, *start+inc*, *start+2\\*inc*, and so on up to, but not including, *stop*. We can also write *range(stop)* as an abbreviation for *range(0, stop, 1)*:"
   ]
  },
  {
   "cell_type": "code",
   "execution_count": 42,
   "metadata": {
    "collapsed": false
   },
   "outputs": [
    {
     "name": "stdout",
     "output_type": "stream",
     "text": [
      "[0, 1, 2]\n"
     ]
    }
   ],
   "source": [
    "print range(3) # same as range(0, 3, 1)"
   ]
  },
  {
   "cell_type": "code",
   "execution_count": 43,
   "metadata": {
    "collapsed": false
   },
   "outputs": [
    {
     "name": "stdout",
     "output_type": "stream",
     "text": [
      "[2, 5]\n"
     ]
    }
   ],
   "source": [
    "print range(2, 8, 3)"
   ]
  },
  {
   "cell_type": "markdown",
   "metadata": {},
   "source": [
    "##List comprehensions\n",
    "Consider this example where we compute two lists in a *for* loop:"
   ]
  },
  {
   "cell_type": "code",
   "execution_count": 44,
   "metadata": {
    "collapsed": false
   },
   "outputs": [
    {
     "name": "stdout",
     "output_type": "stream",
     "text": [
      "Cdegrees =  [-5.0, -4.5, -4.0, -3.5, -3.0, -2.5, -2.0, -1.5, -1.0, -0.5, 0.0, 0.5, 1.0, 1.5, 2.0, 2.5]\n",
      "Fdegrees =  [23.0, 23.9, 24.8, 25.7, 26.6, 27.5, 28.4, 29.3, 30.2, 31.1, 32.0, 32.9, 33.8, 34.7, 35.6, 36.5]\n"
     ]
    }
   ],
   "source": [
    "n = 16\n",
    "Cdegrees = [];  Fdegrees = []  # empty lists\n",
    "for i in range(n):\n",
    "    Cdegrees.append(-5 + i*0.5)\n",
    "    Fdegrees.append((9.0/5)*Cdegrees[i] + 32)\n",
    "print \"Cdegrees = \", Cdegrees\n",
    "print \"Fdegrees = \", Fdegrees"
   ]
  },
  {
   "cell_type": "markdown",
   "metadata": {},
   "source": [
    "As constructing lists is a very common requirement, the above way of doing it can become very tedious to both write and read. Therefore, Python has a compact construct, called list comprehension for generating lists from a *for* loop:"
   ]
  },
  {
   "cell_type": "code",
   "execution_count": 45,
   "metadata": {
    "collapsed": false
   },
   "outputs": [
    {
     "name": "stdout",
     "output_type": "stream",
     "text": [
      "Cdegrees =  [-5.0, -4.5, -4.0, -3.5, -3.0, -2.5, -2.0, -1.5, -1.0, -0.5, 0.0, 0.5, 1.0, 1.5, 2.0, 2.5]\n",
      "Fdegrees =  [23.0, 23.9, 24.8, 25.7, 26.6, 27.5, 28.4, 29.3, 30.2, 31.1, 32.0, 32.9, 33.8, 34.7, 35.6, 36.5]\n"
     ]
    }
   ],
   "source": [
    "n = 16\n",
    "Cdegrees = [-5 + i*0.5 for i in range(n)]\n",
    "Fdegrees = [(9.0/5)*C + 32 for C in Cdegrees]\n",
    "print \"Cdegrees = \", Cdegrees\n",
    "print \"Fdegrees = \", Fdegrees"
   ]
  },
  {
   "cell_type": "markdown",
   "metadata": {},
   "source": [
    "The general form of a list comprehension is:"
   ]
  },
  {
   "cell_type": "raw",
   "metadata": {},
   "source": [
    "somelist = [expression for element in somelist]"
   ]
  },
  {
   "cell_type": "markdown",
   "metadata": {},
   "source": [
    "## <span style=\"color:blue\">Exercise: Repeat the previous exercise using: a for loop, list comprehension and the range function</span>"
   ]
  },
  {
   "cell_type": "code",
   "execution_count": 32,
   "metadata": {
    "collapsed": false
   },
   "outputs": [
    {
     "name": "stdout",
     "output_type": "stream",
     "text": [
      "[1, 3, 5, 7, 9]\n"
     ]
    }
   ],
   "source": [
    "# Using for loop\n",
    "n = 9\n",
    "\n",
    "oddlist = []\n",
    "for i in range(1,n+1,2):\n",
    "    oddlist.append(i)\n",
    "    \n",
    "\n",
    "#oddlist2 = []\n",
    "#i=1\n",
    "#while i <= n:\n",
    "#    oddlist2.append(i)\n",
    "#    i = i+2\n",
    "    \n",
    "print oddlist"
   ]
  },
  {
   "cell_type": "code",
   "execution_count": 35,
   "metadata": {
    "collapsed": false
   },
   "outputs": [
    {
     "name": "stdout",
     "output_type": "stream",
     "text": [
      "[1, 3, 5, 7]\n"
     ]
    }
   ],
   "source": [
    "# Using list comprehension\n",
    "n=8\n",
    "\n",
    "oddlist = [i for i in range(1,n+1,2)]\n",
    "\n",
    "print oddlist"
   ]
  },
  {
   "cell_type": "code",
   "execution_count": 37,
   "metadata": {
    "collapsed": false
   },
   "outputs": [
    {
     "name": "stdout",
     "output_type": "stream",
     "text": [
      "[1, 3, 5, 7, 9, 11, 13]\n"
     ]
    }
   ],
   "source": [
    "# Using the function range\n",
    "\n",
    "n=14\n",
    "\n",
    "oddlist = range(1,n+1,2)\n",
    "print oddlist"
   ]
  },
  {
   "cell_type": "markdown",
   "metadata": {},
   "source": [
    "# Changing elements in a list\n",
    "Say we want to add $2$ to all the numbers in a list:"
   ]
  },
  {
   "cell_type": "code",
   "execution_count": 49,
   "metadata": {
    "collapsed": false
   },
   "outputs": [
    {
     "name": "stdout",
     "output_type": "stream",
     "text": [
      "[-1, 1, 10]\n"
     ]
    }
   ],
   "source": [
    "v = [-1, 1, 10]\n",
    "for e in v:\n",
    "    e=e+2\n",
    "print v"
   ]
  },
  {
   "cell_type": "markdown",
   "metadata": {},
   "source": [
    "We can see that the list *v* is unaltered! The reason for this is that inside the loop, *e* is an ordinary (int) variable. At the start of the iteration *e* is assigned a *copy* of the next element in the list. Inside the loop we can change *e* but *v* itself is unaltered. If we want to change *v* we have to use an index to access and modify its elements:"
   ]
  },
  {
   "cell_type": "code",
   "execution_count": 50,
   "metadata": {
    "collapsed": false
   },
   "outputs": [
    {
     "name": "stdout",
     "output_type": "stream",
     "text": [
      "[-1, 4, 10]\n"
     ]
    }
   ],
   "source": [
    "v[1] = 4 # assign 4 to 2nd element (index 1) in v\n",
    "print v"
   ]
  },
  {
   "cell_type": "markdown",
   "metadata": {},
   "source": [
    "To add 2 to all values we need a *for* loop over indices:"
   ]
  },
  {
   "cell_type": "code",
   "execution_count": 51,
   "metadata": {
    "collapsed": false
   },
   "outputs": [
    {
     "name": "stdout",
     "output_type": "stream",
     "text": [
      "[1, 6, 12]\n"
     ]
    }
   ],
   "source": [
    "for i in range(len(v)):\n",
    "    v[i] = v[i] + 2\n",
    "print v"
   ]
  },
  {
   "cell_type": "markdown",
   "metadata": {},
   "source": [
    "## Traversing multiple lists simultaneously - *zip(list1, list2, ...)*\n",
    "Consider how we can loop over elements in both Cdegrees and Fdegrees at the same time. One approach would be to use list indices:"
   ]
  },
  {
   "cell_type": "code",
   "execution_count": 52,
   "metadata": {
    "collapsed": false
   },
   "outputs": [
    {
     "name": "stdout",
     "output_type": "stream",
     "text": [
      "-5.0 23.0\n",
      "-4.5 23.9\n",
      "-4.0 24.8\n",
      "-3.5 25.7\n",
      "-3.0 26.6\n",
      "-2.5 27.5\n",
      "-2.0 28.4\n",
      "-1.5 29.3\n",
      "-1.0 30.2\n",
      "-0.5 31.1\n",
      "0.0 32.0\n",
      "0.5 32.9\n",
      "1.0 33.8\n",
      "1.5 34.7\n",
      "2.0 35.6\n",
      "2.5 36.5\n"
     ]
    }
   ],
   "source": [
    "for i in range(len(Cdegrees)):\n",
    "    print Cdegrees[i], Fdegrees[i]"
   ]
  },
  {
   "cell_type": "markdown",
   "metadata": {},
   "source": [
    "An alternative construct (regarded as more ”Pythonic”) uses the *zip* function:"
   ]
  },
  {
   "cell_type": "code",
   "execution_count": 53,
   "metadata": {
    "collapsed": false
   },
   "outputs": [
    {
     "name": "stdout",
     "output_type": "stream",
     "text": [
      "-5.0 23.0\n",
      "-4.5 23.9\n",
      "-4.0 24.8\n",
      "-3.5 25.7\n",
      "-3.0 26.6\n",
      "-2.5 27.5\n",
      "-2.0 28.4\n",
      "-1.5 29.3\n",
      "-1.0 30.2\n",
      "-0.5 31.1\n",
      "0.0 32.0\n",
      "0.5 32.9\n",
      "1.0 33.8\n",
      "1.5 34.7\n",
      "2.0 35.6\n",
      "2.5 36.5\n"
     ]
    }
   ],
   "source": [
    "for C, F in zip(Cdegrees, Fdegrees):\n",
    "    print C, F"
   ]
  },
  {
   "cell_type": "markdown",
   "metadata": {},
   "source": [
    "Another example with three lists:"
   ]
  },
  {
   "cell_type": "code",
   "execution_count": 38,
   "metadata": {
    "collapsed": false
   },
   "outputs": [
    {
     "name": "stdout",
     "output_type": "stream",
     "text": [
      "3 1.5 9.1\n",
      "6 1 3\n",
      "1 0 2\n",
      "[3, 6, 1] [1.5, 1, 0] [9.1, 3, 2]\n"
     ]
    }
   ],
   "source": [
    "l1 = [3, 6, 1]; l2 = [1.5, 1, 0]; l3 = [9.1, 3, 2]\n",
    "for e1, e2, e3 in zip(l1, l2, l3):\n",
    "    print e1, e2, e3\n",
    "    "
   ]
  },
  {
   "cell_type": "markdown",
   "metadata": {},
   "source": [
    "If the lists are of unequal length then the loop stops when the end of the shortest list is reached. Experiment with this:"
   ]
  },
  {
   "cell_type": "code",
   "execution_count": 55,
   "metadata": {
    "collapsed": false
   },
   "outputs": [
    {
     "name": "stdout",
     "output_type": "stream",
     "text": [
      "3 1.5 9.1\n",
      "6 1 3\n",
      "1 0 2\n",
      "4 7 0\n"
     ]
    }
   ],
   "source": [
    "l1 = [3, 6, 1, 4, 6]; l2 = [1.5, 1, 0, 7]; l3 = [9.1, 3, 2, 0, 9]\n",
    "for e1, e2, e3 in zip(l1, l2, l3):\n",
    "    print e1, e2, e3"
   ]
  },
  {
   "cell_type": "markdown",
   "metadata": {},
   "source": [
    "## Nested lists: list of lists\n",
    "A *list* can contain **any** object, including another *list*. To illustrate this, consider how to store the conversion table as a single Python list rather than two separate lists."
   ]
  },
  {
   "cell_type": "code",
   "execution_count": 56,
   "metadata": {
    "collapsed": false
   },
   "outputs": [
    {
     "name": "stdout",
     "output_type": "stream",
     "text": [
      "table1 =  [[-20, -15, -10, -5, 0, 5, 10, 15, 20, 25, 30, 35, 40], [-4.0, 5.0, 14.0, 23.0, 32.0, 41.0, 50.0, 59.0, 68.0, 77.0, 86.0, 95.0, 104.0]]\n",
      "table1[0] =  [-20, -15, -10, -5, 0, 5, 10, 15, 20, 25, 30, 35, 40]\n",
      "table1[1] =  [-4.0, 5.0, 14.0, 23.0, 32.0, 41.0, 50.0, 59.0, 68.0, 77.0, 86.0, 95.0, 104.0]\n",
      "table1[2][3] =  23.0\n"
     ]
    }
   ],
   "source": [
    "Cdegrees = range(-20, 41, 5)\n",
    "Fdegrees = [(9.0/5)*C + 32 for C in Cdegrees]\n",
    "table1 = [Cdegrees, Fdegrees]  # List of two lists\n",
    "print \"table1 = \", table1\n",
    "print \"table1[0] = \", table1[0]\n",
    "print \"table1[1] = \", table1[1]\n",
    "print \"table1[2][3] = \", table1[1][3]"
   ]
  },
  {
   "cell_type": "markdown",
   "metadata": {},
   "source": [
    "This gives us a table of two columns. How do we create a table of rows instead:"
   ]
  },
  {
   "cell_type": "code",
   "execution_count": 57,
   "metadata": {
    "collapsed": false
   },
   "outputs": [
    {
     "name": "stdout",
     "output_type": "stream",
     "text": [
      "[[-20, -4.0], [-15, 5.0], [-10, 14.0], [-5, 23.0], [0, 32.0], [5, 41.0], [10, 50.0], [15, 59.0], [20, 68.0], [25, 77.0], [30, 86.0], [35, 95.0], [40, 104.0]]\n"
     ]
    }
   ],
   "source": [
    "table2 = []\n",
    "for C, F in zip(Cdegrees, Fdegrees):\n",
    "    row = [C, F]\n",
    "    table2.append(row)\n",
    "print table2"
   ]
  },
  {
   "cell_type": "markdown",
   "metadata": {},
   "source": [
    "We can use list comprehension to do this more elegantly:"
   ]
  },
  {
   "cell_type": "code",
   "execution_count": 58,
   "metadata": {
    "collapsed": false
   },
   "outputs": [
    {
     "name": "stdout",
     "output_type": "stream",
     "text": [
      "[[-20, -4.0], [-15, 5.0], [-10, 14.0], [-5, 23.0], [0, 32.0], [5, 41.0], [10, 50.0], [15, 59.0], [20, 68.0], [25, 77.0], [30, 86.0], [35, 95.0], [40, 104.0]]\n"
     ]
    }
   ],
   "source": [
    "table2 = [[C, F] for C, F in zip(Cdegrees, Fdegrees)]\n",
    "print table2"
   ]
  },
  {
   "cell_type": "markdown",
   "metadata": {},
   "source": [
    "And you can loop through this list as before:"
   ]
  },
  {
   "cell_type": "code",
   "execution_count": 59,
   "metadata": {
    "collapsed": false
   },
   "outputs": [
    {
     "name": "stdout",
     "output_type": "stream",
     "text": [
      "-20 -4.0\n",
      "-15 5.0\n",
      "-10 14.0\n",
      "-5 23.0\n",
      "0 32.0\n",
      "5 41.0\n",
      "10 50.0\n",
      "15 59.0\n",
      "20 68.0\n",
      "25 77.0\n",
      "30 86.0\n",
      "35 95.0\n",
      "40 104.0\n"
     ]
    }
   ],
   "source": [
    "for C, F in table2:\n",
    "    print C, F"
   ]
  },
  {
   "cell_type": "markdown",
   "metadata": {},
   "source": [
    "##Tuples: lists that cannot be changed\n",
    "Tuples are **constant** lists, i.e. you can use them in much the same way as lists except you cannot modify them. They are an example of an [**immutable**](http://en.wikipedia.org/wiki/Immutable_object) type."
   ]
  },
  {
   "cell_type": "code",
   "execution_count": 40,
   "metadata": {
    "collapsed": false
   },
   "outputs": [],
   "source": [
    "t = (2, 4, 6, 'temp.pdf')               # Define a tuple.\n",
    "t =  2, 4, 6, 'temp.pdf'                # Can skip parenthesis as it is assumed in this context.\n",
    "\n"
   ]
  },
  {
   "cell_type": "markdown",
   "metadata": {},
   "source": [
    "Let's see what happens when we try to modify the tuple like we did with a list:"
   ]
  },
  {
   "cell_type": "code",
   "execution_count": 61,
   "metadata": {
    "collapsed": false
   },
   "outputs": [
    {
     "ename": "TypeError",
     "evalue": "'tuple' object does not support item assignment",
     "output_type": "error",
     "traceback": [
      "\u001b[0;31m---------------------------------------------------------------------------\u001b[0m",
      "\u001b[0;31mTypeError\u001b[0m                                 Traceback (most recent call last)",
      "\u001b[0;32m<ipython-input-61-f92606d6fa8b>\u001b[0m in \u001b[0;36m<module>\u001b[0;34m()\u001b[0m\n\u001b[0;32m----> 1\u001b[0;31m \u001b[0mt\u001b[0m\u001b[0;34m[\u001b[0m\u001b[0;36m1\u001b[0m\u001b[0;34m]\u001b[0m \u001b[0;34m=\u001b[0m \u001b[0;34m-\u001b[0m\u001b[0;36m1\u001b[0m\u001b[0;34m\u001b[0m\u001b[0m\n\u001b[0m",
      "\u001b[0;31mTypeError\u001b[0m: 'tuple' object does not support item assignment"
     ]
    }
   ],
   "source": [
    "t[1] = -1"
   ]
  },
  {
   "cell_type": "code",
   "execution_count": 62,
   "metadata": {
    "collapsed": false
   },
   "outputs": [
    {
     "ename": "AttributeError",
     "evalue": "'tuple' object has no attribute 'append'",
     "output_type": "error",
     "traceback": [
      "\u001b[0;31m---------------------------------------------------------------------------\u001b[0m",
      "\u001b[0;31mAttributeError\u001b[0m                            Traceback (most recent call last)",
      "\u001b[0;32m<ipython-input-62-78592bf72d62>\u001b[0m in \u001b[0;36m<module>\u001b[0;34m()\u001b[0m\n\u001b[0;32m----> 1\u001b[0;31m \u001b[0mt\u001b[0m\u001b[0;34m.\u001b[0m\u001b[0mappend\u001b[0m\u001b[0;34m(\u001b[0m\u001b[0;36m0\u001b[0m\u001b[0;34m)\u001b[0m\u001b[0;34m\u001b[0m\u001b[0m\n\u001b[0m",
      "\u001b[0;31mAttributeError\u001b[0m: 'tuple' object has no attribute 'append'"
     ]
    }
   ],
   "source": [
    "t.append(0)"
   ]
  },
  {
   "cell_type": "code",
   "execution_count": 63,
   "metadata": {
    "collapsed": false
   },
   "outputs": [
    {
     "ename": "TypeError",
     "evalue": "'tuple' object doesn't support item deletion",
     "output_type": "error",
     "traceback": [
      "\u001b[0;31m---------------------------------------------------------------------------\u001b[0m",
      "\u001b[0;31mTypeError\u001b[0m                                 Traceback (most recent call last)",
      "\u001b[0;32m<ipython-input-63-0193a527a912>\u001b[0m in \u001b[0;36m<module>\u001b[0;34m()\u001b[0m\n\u001b[0;32m----> 1\u001b[0;31m \u001b[0;32mdel\u001b[0m \u001b[0mt\u001b[0m\u001b[0;34m[\u001b[0m\u001b[0;36m1\u001b[0m\u001b[0;34m]\u001b[0m\u001b[0;34m\u001b[0m\u001b[0m\n\u001b[0m",
      "\u001b[0;31mTypeError\u001b[0m: 'tuple' object doesn't support item deletion"
     ]
    }
   ],
   "source": [
    "del t[1]"
   ]
  },
  {
   "cell_type": "markdown",
   "metadata": {},
   "source": [
    "However, we can use the tuple to compose a new tuple:"
   ]
  },
  {
   "cell_type": "code",
   "execution_count": 64,
   "metadata": {
    "collapsed": false
   },
   "outputs": [
    {
     "name": "stdout",
     "output_type": "stream",
     "text": [
      "(2, 4, 6, 'temp.pdf', -1.0, -2.0)\n"
     ]
    }
   ],
   "source": [
    "t = t + (-1.0, -2.0)\n",
    "print t"
   ]
  },
  {
   "cell_type": "markdown",
   "metadata": {},
   "source": [
    "So, why would we use tuples when lists have more functionality?\n",
    "\n",
    "* Tuples are constant and thus protected against accidental changes.\n",
    "* Tuples are faster than lists.\n",
    "* Tuples are widely used in Python software (so you need to know about tuples to understand other people's code!)\n",
    "* Tuples (but not lists) can be used as keys in dictionaries (more about dictionaries later)."
   ]
  },
  {
   "cell_type": "markdown",
   "metadata": {},
   "source": [
    "## <span style=\"color:blue\">Exercise: Make a table of function values</span>\n",
    "Step 1: Write a program that prints a table with $t$ values in the first column and the corresponding $y(t) = v_0 t − 0.5gt^2$ values in the second column. Use $n$ uniformly spaced $t$ values throughout the interval [0, $2v_0/g$]. Set $v0 = 1$, $g = 9.81$, and $n = 11$.\n",
    "\n",
    "Step 2: Once step 1 is working, modify the program so that the $t$ and $y$ values are stored in two lists *t* and *y*. Thereafter, transverse the lists with a *for* loop and write out a nicely formatted table of *t* and *y* values using a *zip* construction."
   ]
  },
  {
   "cell_type": "markdown",
   "metadata": {},
   "source": [
    "##Functions\n",
    "We have already used many Python functions, e.g. mathematical functions:"
   ]
  },
  {
   "cell_type": "code",
   "execution_count": 45,
   "metadata": {
    "collapsed": false
   },
   "outputs": [
    {
     "name": "stdout",
     "output_type": "stream",
     "text": [
      "[0.0, 0.01853396348809193, 0.03706792697618386, 0.05560189046427578, 0.07413585395236771, 0.09266981744045964, 0.11120378092855156, 0.12973774441664349, 0.14827170790473543, 0.16680567139282734, 0.18533963488091929]\n"
     ]
    },
    {
     "ename": "TypeError",
     "evalue": "unsupported operand type(s) for ** or pow(): 'list' and 'int'",
     "output_type": "error",
     "traceback": [
      "\u001b[1;31m---------------------------------------------------------------------------\u001b[0m",
      "\u001b[1;31mTypeError\u001b[0m                                 Traceback (most recent call last)",
      "\u001b[1;32m<ipython-input-45-0a3f9431fef9>\u001b[0m in \u001b[0;36m<module>\u001b[1;34m()\u001b[0m\n\u001b[0;32m      7\u001b[0m \u001b[1;32mprint\u001b[0m \u001b[0mt\u001b[0m\u001b[1;33m\u001b[0m\u001b[0m\n\u001b[0;32m      8\u001b[0m \u001b[1;33m\u001b[0m\u001b[0m\n\u001b[1;32m----> 9\u001b[1;33m \u001b[0my\u001b[0m \u001b[1;33m=\u001b[0m \u001b[0mzip\u001b[0m\u001b[1;33m(\u001b[0m\u001b[0mv_0\u001b[0m \u001b[1;33m*\u001b[0m \u001b[0mt\u001b[0m \u001b[1;33m-\u001b[0m \u001b[1;36m0.5\u001b[0m \u001b[1;33m*\u001b[0m \u001b[0mg\u001b[0m \u001b[1;33m*\u001b[0m \u001b[0mt\u001b[0m\u001b[1;33m**\u001b[0m\u001b[1;36m2\u001b[0m\u001b[1;33m)\u001b[0m\u001b[1;33m\u001b[0m\u001b[0m\n\u001b[0m\u001b[0;32m     10\u001b[0m \u001b[1;33m\u001b[0m\u001b[0m\n\u001b[0;32m     11\u001b[0m \u001b[1;32mprint\u001b[0m \u001b[0my\u001b[0m\u001b[1;33m\u001b[0m\u001b[0m\n",
      "\u001b[1;31mTypeError\u001b[0m: unsupported operand type(s) for ** or pow(): 'list' and 'int'"
     ]
    }
   ],
   "source": [
    "v_0 = 1\n",
    "g = 9.81\n",
    "n = 11\n",
    "\n",
    "t = [i*2*v_0/g/n for i in range(0,n)]\n",
    "\n",
    "print t \n",
    "\n",
    "y = zip(v_0 * t - 0.5 * g * t**2)\n",
    "\n",
    "print y\n",
    "\n",
    "\n",
    "from math import *\n",
    "x = pi\n",
    "print cos(x)"
   ]
  },
  {
   "cell_type": "markdown",
   "metadata": {},
   "source": [
    "Other functions you used include *len* and *range*:"
   ]
  },
  {
   "cell_type": "code",
   "execution_count": 66,
   "metadata": {
    "collapsed": false
   },
   "outputs": [],
   "source": [
    "n = len(somelist)\n",
    "ints = range(5, n, 2)"
   ]
  },
  {
   "cell_type": "markdown",
   "metadata": {},
   "source": [
    "You have also used functions that are executed with the dot syntax (called *methods*):"
   ]
  },
  {
   "cell_type": "code",
   "execution_count": 67,
   "metadata": {
    "collapsed": false
   },
   "outputs": [],
   "source": [
    "C = [5, 10, 40, 45]\n",
    "i = C.index(10)\n",
    "C.append(50)\n",
    "C.insert(2, 20)"
   ]
  },
  {
   "cell_type": "markdown",
   "metadata": {},
   "source": [
    "A function is a collection of statements we can execute wherever and whenever we want. Functions can take any number of inputs (called *arguments*) to produce outputs. Functions help to organize programs, make them more understandable, shorter, and easier to extend. For our first example we will turn our temperature conversion code into a function:"
   ]
  },
  {
   "cell_type": "code",
   "execution_count": 68,
   "metadata": {
    "collapsed": false
   },
   "outputs": [],
   "source": [
    "def C2F(C):\n",
    "    return (9.0/5)*C + 32"
   ]
  },
  {
   "cell_type": "markdown",
   "metadata": {},
   "source": [
    "Functions start with *def*, then the name you want to give your function, then a list of arguments (here C). This is referred to as the *function header*. Inside the function there is a block of statements called the *function body*. Notice that the function body is indented - as was the case for the *for* / *while* loop the indentation indicates where the function ends. At any point within the function, we can \"stop the\n",
    "function\" and return as many values/variables as required."
   ]
  },
  {
   "cell_type": "markdown",
   "metadata": {},
   "source": [
    "## Local and global variables\n",
    "Variables defined within a function are said to have *local scope*. That is to say that they can only be referenced within that function. Let's consider an example (and look carefully at the indentation!!):"
   ]
  },
  {
   "cell_type": "code",
   "execution_count": 69,
   "metadata": {
    "collapsed": false
   },
   "outputs": [
    {
     "name": "stdout",
     "output_type": "stream",
     "text": [
      "15\n"
     ]
    }
   ],
   "source": [
    "def sumint(start, stop):\n",
    "    s = 0      # variable for accumulating the sum\n",
    "    i = start  # counter\n",
    "    while i <= stop:\n",
    "        s += i\n",
    "        i += 1\n",
    "    return s\n",
    "\n",
    "print sumint(0, 5)"
   ]
  },
  {
   "cell_type": "markdown",
   "metadata": {},
   "source": [
    "Variables *i* and *s* are local variables in *sumint*. They are destroyed at the end (return) of the function and never visible outside the function (in the calling program); in fact, *start* and *stop* are also local variables. So let's see what happens if we now try to print one of these variables:"
   ]
  },
  {
   "cell_type": "code",
   "execution_count": 70,
   "metadata": {
    "collapsed": false
   },
   "outputs": [
    {
     "ename": "NameError",
     "evalue": "name 'stop' is not defined",
     "output_type": "error",
     "traceback": [
      "\u001b[0;31m---------------------------------------------------------------------------\u001b[0m",
      "\u001b[0;31mNameError\u001b[0m                                 Traceback (most recent call last)",
      "\u001b[0;32m<ipython-input-70-86c4545cc7bb>\u001b[0m in \u001b[0;36m<module>\u001b[0;34m()\u001b[0m\n\u001b[0;32m----> 1\u001b[0;31m \u001b[0;32mprint\u001b[0m \u001b[0mstop\u001b[0m\u001b[0;34m\u001b[0m\u001b[0m\n\u001b[0m",
      "\u001b[0;31mNameError\u001b[0m: name 'stop' is not defined"
     ]
    }
   ],
   "source": [
    "print stop"
   ]
  },
  {
   "cell_type": "markdown",
   "metadata": {},
   "source": [
    "Functions can also return multiple values. Let's recycle another of our previous examples - compute $y(t)$ and $y'(t)=v_0-gt$:"
   ]
  },
  {
   "cell_type": "code",
   "execution_count": 71,
   "metadata": {
    "collapsed": false
   },
   "outputs": [
    {
     "name": "stdout",
     "output_type": "stream",
     "text": [
      "0.0342 -2.886\n"
     ]
    }
   ],
   "source": [
    "def yfunc(t, v0):\n",
    "    g = 9.81\n",
    "    y = v0*t - 0.5*g*t**2\n",
    "    dydt = v0 - g*t\n",
    "    return y, dydt\n",
    "\n",
    "# call:\n",
    "position, velocity = yfunc(0.6, 3)\n",
    "\n",
    "print position, velocity"
   ]
  },
  {
   "cell_type": "markdown",
   "metadata": {},
   "source": [
    "Remember that a series of comma separated variables implies a tuple - therefore \"return y, dydt\" is the same as writing \"return (y, dydt)\". Therefore, in general what is returned is a tuple. Let's take a look at another example illustrating this:"
   ]
  },
  {
   "cell_type": "code",
   "execution_count": 72,
   "metadata": {
    "collapsed": false
   },
   "outputs": [
    {
     "name": "stdout",
     "output_type": "stream",
     "text": [
      "(2, 4, 16)\n",
      "<type 'tuple'>\n"
     ]
    }
   ],
   "source": [
    "def f(x):\n",
    "    return x, x**2, x**4\n",
    "s = f(2)\n",
    "print s\n",
    "print type(s) # The function type() tells us what type a variable it is."
   ]
  },
  {
   "cell_type": "markdown",
   "metadata": {},
   "source": [
    "No return value implies that *None* is returned. *None* is a special Python object that represents an ”empty” or undefined value. It is surprisingly useful and we will use it a lot later."
   ]
  },
  {
   "cell_type": "code",
   "execution_count": 73,
   "metadata": {
    "collapsed": false
   },
   "outputs": [
    {
     "name": "stdout",
     "output_type": "stream",
     "text": [
      "Python rocks!\n",
      "Geo rocks!\n",
      "r =  None\n"
     ]
    }
   ],
   "source": [
    "def message(course):\n",
    "           print \"%s rocks!\"% course\n",
    "\n",
    "message(\"Python\")\n",
    "\n",
    "r = message(\"Geo\")\n",
    "\n",
    "print \"r = \", r"
   ]
  },
  {
   "cell_type": "markdown",
   "metadata": {},
   "source": [
    "## Keyword arguments and default input values\n",
    "Functions can have arguments of the form variable_name=value and are called keyword arguments:"
   ]
  },
  {
   "cell_type": "code",
   "execution_count": 74,
   "metadata": {
    "collapsed": false
   },
   "outputs": [
    {
     "name": "stdout",
     "output_type": "stream",
     "text": [
      "Hello [1, 2] True 0\n"
     ]
    }
   ],
   "source": [
    "def somefunc(arg1, arg2, kwarg1=True, kwarg2=0):\n",
    "    print arg1, arg2, kwarg1, kwarg2\n",
    "\n",
    "somefunc(\"Hello\", [1,2])   # Note that we have not specified inputs for kwarg1 and kwarg2"
   ]
  },
  {
   "cell_type": "code",
   "execution_count": 75,
   "metadata": {
    "collapsed": false
   },
   "outputs": [
    {
     "name": "stdout",
     "output_type": "stream",
     "text": [
      "Hello [1, 2] Hi 0\n"
     ]
    }
   ],
   "source": [
    "somefunc(\"Hello\", [1,2], kwarg1=\"Hi\")"
   ]
  },
  {
   "cell_type": "code",
   "execution_count": 76,
   "metadata": {
    "collapsed": false
   },
   "outputs": [
    {
     "name": "stdout",
     "output_type": "stream",
     "text": [
      "Hello [1, 2] True Hi\n"
     ]
    }
   ],
   "source": [
    "somefunc(\"Hello\", [1,2], kwarg2=\"Hi\")"
   ]
  },
  {
   "cell_type": "code",
   "execution_count": 77,
   "metadata": {
    "collapsed": false
   },
   "outputs": [
    {
     "name": "stdout",
     "output_type": "stream",
     "text": [
      "Hello [1, 2] 6 Hi\n"
     ]
    }
   ],
   "source": [
    "somefunc(\"Hello\", [1,2], kwarg2=\"Hi\", kwarg1=6)"
   ]
  },
  {
   "cell_type": "markdown",
   "metadata": {},
   "source": [
    "If we use variable_name=value for all arguments, their sequence in the function header can be in any order."
   ]
  },
  {
   "cell_type": "code",
   "execution_count": 78,
   "metadata": {
    "collapsed": false
   },
   "outputs": [
    {
     "name": "stdout",
     "output_type": "stream",
     "text": [
      "Hi [2] 6 Hello\n"
     ]
    }
   ],
   "source": [
    "somefunc(kwarg2=\"Hello\", arg1=\"Hi\", kwarg1=6, arg2=[2])"
   ]
  },
  {
   "cell_type": "markdown",
   "metadata": {},
   "source": [
    "Let's look at another example - consider a function of $t$, with parameters $A$, $a$, and $\\omega$:\n",
    "$$f(t; A,a, \\omega) = Ae^{-at}\\sin (\\omega t)$$. (The choice of equation is actually pretty random - but it serves to show you that it is easy to translate formulae you encounter into Python code). We can implement $f$ in a Python function with $t$ as positional argument and $A$, $a$, and $\\omega$ as keyword arguments."
   ]
  },
  {
   "cell_type": "code",
   "execution_count": 79,
   "metadata": {
    "collapsed": false
   },
   "outputs": [
    {
     "name": "stdout",
     "output_type": "stream",
     "text": [
      "0.778659217806 0.521950882726 0.406641727038 4.2304802002 7.00793296025\n"
     ]
    }
   ],
   "source": [
    "from math import pi, exp, sin\n",
    "def f(t, A=1, a=1, omega=2*pi):\n",
    "    return A*exp(-a*t)*sin(omega*t)\n",
    "\n",
    "v1 = f(0.2)\n",
    "v2 = f(0.2, omega=1)\n",
    "v2 = f(0.2, 1, 3)  # same as f(0.2, A=1, a=3)\n",
    "v3 = f(0.2, omega=1, A=2.5)\n",
    "v4 = f(A=5, a=0.1, omega=1, t=1.3)\n",
    "v5 = f(t=0.2, A=9)\n",
    "\n",
    "print v1, v2, v3, v4, v5"
   ]
  },
  {
   "cell_type": "markdown",
   "metadata": {},
   "source": [
    "## Convention for input and output data in functions\n",
    "A function can have three types of input and output data:\n",
    "\n",
    "* Input data specified through positional/keyword arguments.\n",
    "* Input/output data given as positional/keyword arguments that will be modified and returned.\n",
    "* Output data created inside the function.\n",
    "* All output data are returned, all input data are arguments.\n",
    "* Sketch of a general Python function:"
   ]
  },
  {
   "cell_type": "raw",
   "metadata": {},
   "source": [
    "def somefunc(i1, i2, i3, io4, io5, i6=value1, io7=value2):\n",
    "           # modify io4, io5, io7; compute o1, o2, o3\n",
    "           return o1, o2, o3, io4, io5, io7"
   ]
  },
  {
   "cell_type": "markdown",
   "metadata": {},
   "source": [
    "* i1, i2, i3, i6: pure input data\n",
    "* io4, io5, io7: input and output data\n",
    "* o1, o2, o3: pure output data"
   ]
  },
  {
   "cell_type": "markdown",
   "metadata": {},
   "source": [
    "## <span style=\"color:blue\">Exercise: Implement a Gaussian function</span>\n",
    "\n",
    "Make a Python function *gauss*( *x*, *m*=0, *s*=1) for computing the Gaussian function \n",
    "$$f(x)=\\frac{1}{\\sqrt{2\\pi}s}\\exp\\left(-\\frac{1}{2} \\left(\\frac{x-m}{s}\\right)^2\\right)$$\n",
    "Call the function and print out the result for x equal to −5, −4.9, −4.8, ..., 4.8, 4.9, 5, using default values for *m* and *s*.\n"
   ]
  },
  {
   "cell_type": "code",
   "execution_count": null,
   "metadata": {
    "collapsed": false
   },
   "outputs": [],
   "source": []
  },
  {
   "cell_type": "markdown",
   "metadata": {},
   "source": [
    "## The *if* statement\n",
    "Consider this simple example:"
   ]
  },
  {
   "cell_type": "code",
   "execution_count": 80,
   "metadata": {
    "collapsed": false
   },
   "outputs": [
    {
     "name": "stdout",
     "output_type": "stream",
     "text": [
      "0 1.0 0\n"
     ]
    }
   ],
   "source": [
    "def f(x):\n",
    "    if 0 <= x <= pi:\n",
    "        return sin(x)\n",
    "    else:\n",
    "        return 0\n",
    "print f(-pi/2), f(pi/2), f(3*pi/2)"
   ]
  },
  {
   "cell_type": "markdown",
   "metadata": {},
   "source": [
    "In general (the *else* block can be skipped if there are no statements to be executed when False) we can put together multiple conditions. Only the first condition that is True is executed."
   ]
  },
  {
   "cell_type": "raw",
   "metadata": {},
   "source": [
    "if condition1:\n",
    "    <block of statements, executed if condition1 is True>\n",
    "elif condition2:\n",
    "    <block of statements>\n",
    "elif condition3:\n",
    "    <block of statements>\n",
    "else:\n",
    "    <block of statements>\n",
    "    \n",
    "<next statement of the program>"
   ]
  },
  {
   "cell_type": "markdown",
   "metadata": {},
   "source": [
    "## The ternary operator\n",
    "\n",
    "There is another form of *if* which works as an operator, rather than a statement. If you've used the *if* function in a spreadsheet then you'll be familiar with this approach."
   ]
  },
  {
   "cell_type": "code",
   "execution_count": 81,
   "metadata": {
    "collapsed": false
   },
   "outputs": [
    {
     "name": "stdout",
     "output_type": "stream",
     "text": [
      "0 1.0 0\n"
     ]
    }
   ],
   "source": [
    "def f(x):\n",
    "    return (sin(x) if 0 <= x <= pi else 0)\n",
    "print f(-pi/2), f(pi/2), f(3*pi/2)"
   ]
  },
  {
   "cell_type": "markdown",
   "metadata": {},
   "source": [
    "The ternary operator has the following form:"
   ]
  },
  {
   "cell_type": "raw",
   "metadata": {},
   "source": [
    "<expression if condition is True> if <condition> else <expression if condition is false>"
   ]
  },
  {
   "cell_type": "markdown",
   "metadata": {},
   "source": [
    "## <span style=\"color:blue\">Exercise: Express a step function as a Python function</span>\n",
    "The following \"step\" function is known as the Heaviside function and\n",
    "is widely used in mathematics:\n",
    "$$H(x)=\\begin{cases}0, & \\text{if $x<0$}.\\\\\\\\\n",
    "1, & \\text{if $x\\ge 0$}.\\end{cases}$$\n",
    "Write a Python function H(x) that computes H(x)."
   ]
  },
  {
   "cell_type": "code",
   "execution_count": null,
   "metadata": {
    "collapsed": false
   },
   "outputs": [],
   "source": []
  }
 ],
 "metadata": {
  "kernelspec": {
   "display_name": "Python 2",
   "language": "python",
   "name": "python2"
  },
  "language_info": {
   "codemirror_mode": {
    "name": "ipython",
    "version": 2
   },
   "file_extension": ".py",
   "mimetype": "text/x-python",
   "name": "python",
   "nbconvert_exporter": "python",
   "pygments_lexer": "ipython2",
   "version": "2.7.6"
  }
 },
 "nbformat": 4,
 "nbformat_minor": 0
}
